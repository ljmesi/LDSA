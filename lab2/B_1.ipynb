{
 "cells": [
  {
   "cell_type": "code",
   "execution_count": 1,
   "metadata": {},
   "outputs": [],
   "source": [
    "from pyspark.sql import SparkSession\n",
    "from pyspark.sql import SQLContext\n",
    "\n",
    "spark_session = SparkSession\\\n",
    "        .builder\\\n",
    "        .master(\"local\") \\\n",
    "        .appName(\"Question_B1\")\\\n",
    "        .getOrCreate()\n",
    "\n",
    "spark_context = spark_session.sparkContext\n",
    "sqlContext = SQLContext(spark_context)"
   ]
  },
  {
   "cell_type": "code",
   "execution_count": 2,
   "metadata": {},
   "outputs": [],
   "source": [
    "df = sqlContext.\\\n",
    "read.format('csv')\\\n",
    ".options(header='true', inferschema='true',multiLine='true', escape='\\'')\\\n",
    ".load('/home/ubuntu/LDSA/lab2/gap_data.csv')"
   ]
  },
  {
   "cell_type": "code",
   "execution_count": 3,
   "metadata": {},
   "outputs": [],
   "source": [
    "df = spark_session.read.csv('/home/ubuntu/LDSA/lab2/gap_data.csv', header=\"true\", inferSchema=\"true\", multiLine=\"true\", escape=\"\\\"\")"
   ]
  },
  {
   "cell_type": "code",
   "execution_count": 4,
   "metadata": {},
   "outputs": [
    {
     "name": "stdout",
     "output_type": "stream",
     "text": [
      "root\n",
      " |-- EmployerName: string (nullable = true)\n",
      " |-- Address: string (nullable = true)\n",
      " |-- CompanyNumber: string (nullable = true)\n",
      " |-- SicCodes: string (nullable = true)\n",
      " |-- DiffMeanHourlyPercent: double (nullable = true)\n",
      " |-- DiffMedianHourlyPercent: double (nullable = true)\n",
      " |-- DiffMeanBonusPercent: double (nullable = true)\n",
      " |-- DiffMedianBonusPercent: double (nullable = true)\n",
      " |-- MaleBonusPercent: double (nullable = true)\n",
      " |-- FemaleBonusPercent: double (nullable = true)\n",
      " |-- MaleLowerQuartile: double (nullable = true)\n",
      " |-- FemaleLowerQuartile: double (nullable = true)\n",
      " |-- MaleLowerMiddleQuartile: double (nullable = true)\n",
      " |-- FemaleLowerMiddleQuartile: double (nullable = true)\n",
      " |-- MaleUpperMiddleQuartile: double (nullable = true)\n",
      " |-- FemaleUpperMiddleQuartile: double (nullable = true)\n",
      " |-- MaleTopQuartile: double (nullable = true)\n",
      " |-- FemaleTopQuartile: double (nullable = true)\n",
      " |-- CompanyLinkToGPGInfo: string (nullable = true)\n",
      " |-- ResponsiblePerson: string (nullable = true)\n",
      " |-- EmployerSize: string (nullable = true)\n",
      " |-- CurrentName: string (nullable = true)\n",
      " |-- SubmittedAfterTheDeadline\r",
      ": string (nullable = true)\n",
      "\n"
     ]
    }
   ],
   "source": [
    "df.printSchema()"
   ]
  },
  {
   "cell_type": "code",
   "execution_count": 5,
   "metadata": {},
   "outputs": [],
   "source": [
    "df.createOrReplaceTempView(\"gender_pay_gap\")\n",
    "sqlDFAsc = spark_session.sql(\"SELECT EmployerName, DiffMeanHourlyPercent FROM gender_pay_gap ORDER BY DiffMeanHourlyPercent\")\n",
    "sqlDFDesc = spark_session.sql(\"SELECT EmployerName, DiffMeanHourlyPercent FROM gender_pay_gap ORDER BY DiffMeanHourlyPercent DESC\")\n",
    "sqlDFAvg = spark_session.sql(\"SELECT AVG(DiffMeanHourlyPercent) FROM gender_pay_gap\")\n",
    "sqlDFNeg = spark_session.sql(\"SELECT COUNT(EmployerName) FROM gender_pay_gap WHERE DiffMeanHourlyPercent < 0\")\n",
    "sqlDFAll = spark_session.sql(\"SELECT COUNT(EmployerName) FROM gender_pay_gap\")"
   ]
  },
  {
   "cell_type": "code",
   "execution_count": 6,
   "metadata": {},
   "outputs": [
    {
     "name": "stdout",
     "output_type": "stream",
     "text": [
      "+--------------------+---------------------+\n",
      "|        EmployerName|DiffMeanHourlyPercent|\n",
      "+--------------------+---------------------+\n",
      "|MILLWALL HOLDINGS...|                159.0|\n",
      "|STOKE CITY FOOTBA...|                 92.5|\n",
      "|BURNLEY FOOTBALL ...|                 88.4|\n",
      "|SWANSEA CITY ASSO...|                 87.8|\n",
      "|MANCHESTER CITY F...|                 87.7|\n",
      "|WEST HAM UNITED F...|                 87.4|\n",
      "|WATFORD ASSOCIATI...|                 87.0|\n",
      "|SUNDERLAND ASSOCI...|                 85.1|\n",
      "|SOUTHAMPTON FOOTB...|                 84.4|\n",
      "|WEST BROMWICH ALB...|                 84.4|\n",
      "|        CPFC LIMITED|                 84.0|\n",
      "|NEWCASTLE UNITED ...|                 83.3|\n",
      "|CHELSEA FOOTBALL ...|                 83.0|\n",
      "|MIDDLESBROUGH FOO...|                 83.0|\n",
      "|AFC BOURNEMOUTH L...|                 83.0|\n",
      "|Tottenham Hotspur...|                 83.0|\n",
      "|HARGREAVE HALE LI...|                 81.3|\n",
      "|THE ARSENAL FOOTB...|                 79.6|\n",
      "|LEICESTER CITY FO...|                 78.0|\n",
      "|SHEFFIELD WEDNESD...|                 78.0|\n",
      "+--------------------+---------------------+\n",
      "only showing top 20 rows\n",
      "\n"
     ]
    }
   ],
   "source": [
    "sqlDFDesc.show()"
   ]
  },
  {
   "cell_type": "code",
   "execution_count": 7,
   "metadata": {},
   "outputs": [
    {
     "name": "stdout",
     "output_type": "stream",
     "text": [
      "+--------------------+---------------------+\n",
      "|        EmployerName|DiffMeanHourlyPercent|\n",
      "+--------------------+---------------------+\n",
      "|COMPLETE CARE HOL...|               -400.0|\n",
      "|BARLOWS (U.K.) LI...|               -267.6|\n",
      "|    INBRELLA LIMITED|               -150.0|\n",
      "|    BAR 2010 LIMITED|               -148.0|\n",
      "|Solent Academies ...|               -107.0|\n",
      "|Unity Contracting...|                -69.4|\n",
      "|CREST PLUS OPERAT...|                -66.5|\n",
      "|PLUS PAYROLL SERV...|                -64.4|\n",
      "|MARS FOOD UK LIMITED|                -51.5|\n",
      "|L.E.A.D SERVICES ...|                -51.0|\n",
      "|SAI AUTOMOTIVE WA...|                -47.9|\n",
      "|TESCO MAINTENANCE...|                -47.2|\n",
      "|SWEET DREAMS (NEL...|                -46.4|\n",
      "|HARSCO METALS GRO...|                -45.9|\n",
      "|QUEST EMPLOYMENT ...|                -43.9|\n",
      "|ACCROL PAPERS LIM...|                -42.9|\n",
      "|NATIONWIDE WINDOW...|                -42.2|\n",
      "|ATS EUROMASTER LI...|                -41.4|\n",
      "|PAYSTREAM MY MAX ...|                -38.0|\n",
      "|OAK TYRES UK LIMITED|                -37.6|\n",
      "+--------------------+---------------------+\n",
      "only showing top 20 rows\n",
      "\n"
     ]
    }
   ],
   "source": [
    "sqlDFAsc.show()"
   ]
  },
  {
   "cell_type": "code",
   "execution_count": 8,
   "metadata": {},
   "outputs": [
    {
     "name": "stdout",
     "output_type": "stream",
     "text": [
      "+--------------------------+\n",
      "|avg(DiffMeanHourlyPercent)|\n",
      "+--------------------------+\n",
      "|          14.2997905559787|\n",
      "+--------------------------+\n",
      "\n"
     ]
    }
   ],
   "source": [
    "sqlDFAvg.show()"
   ]
  },
  {
   "cell_type": "code",
   "execution_count": 9,
   "metadata": {},
   "outputs": [
    {
     "name": "stdout",
     "output_type": "stream",
     "text": [
      "+-------------------+\n",
      "|count(EmployerName)|\n",
      "+-------------------+\n",
      "|               1225|\n",
      "+-------------------+\n",
      "\n"
     ]
    }
   ],
   "source": [
    "sqlDFNeg.show()"
   ]
  },
  {
   "cell_type": "code",
   "execution_count": 10,
   "metadata": {},
   "outputs": [
    {
     "name": "stdout",
     "output_type": "stream",
     "text": [
      "+-------------------+\n",
      "|count(EmployerName)|\n",
      "+-------------------+\n",
      "|              10504|\n",
      "+-------------------+\n",
      "\n"
     ]
    }
   ],
   "source": [
    "sqlDFAll.show()"
   ]
  },
  {
   "cell_type": "code",
   "execution_count": 11,
   "metadata": {},
   "outputs": [
    {
     "name": "stdout",
     "output_type": "stream",
     "text": [
      "0.11662223914699162\n"
     ]
    }
   ],
   "source": [
    "print(1225/10504)"
   ]
  },
  {
   "cell_type": "code",
   "execution_count": null,
   "metadata": {},
   "outputs": [],
   "source": [
    "sqlDFAvg.write.csv(\"avg_gender_pay_gap.csv\")"
   ]
  }
 ],
 "metadata": {
  "kernelspec": {
   "display_name": "Python 3",
   "language": "python",
   "name": "python3"
  },
  "language_info": {
   "codemirror_mode": {
    "name": "ipython",
    "version": 3
   },
   "file_extension": ".py",
   "mimetype": "text/x-python",
   "name": "python",
   "nbconvert_exporter": "python",
   "pygments_lexer": "ipython3",
   "version": "3.5.2"
  }
 },
 "nbformat": 4,
 "nbformat_minor": 2
}
