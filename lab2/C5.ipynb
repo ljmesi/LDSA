{
 "cells": [
  {
   "cell_type": "code",
   "execution_count": 1,
   "metadata": {},
   "outputs": [],
   "source": [
    "from pyspark.sql import SparkSession\n",
    "from pyspark.sql import SQLContext\n",
    "from pyspark.sql.functions import *\n",
    "from pyspark.sql.types import StringType\n",
    "from pyspark.sql.types import IntegerType\n",
    "from pyspark.sql.types import ArrayType\n",
    "import sys\n",
    "\n",
    "spark_session = SparkSession\\\n",
    "        .builder\\\n",
    "        .master(\"spark://192.168.1.27:7077\") \\\n",
    "        .appName(\"Question_C5\")\\\n",
    "        .getOrCreate()\n",
    "\n",
    "spark_context = spark_session.sparkContext\n",
    "sqlContext = SQLContext(spark_context)"
   ]
  },
  {
   "cell_type": "code",
   "execution_count": 2,
   "metadata": {},
   "outputs": [],
   "source": [
    "df = spark_session.read.csv('/home/ubuntu/LDSA/lab2/gap_data.csv', header=\"true\", inferSchema=\"true\", multiLine=\"true\", escape=\"\\\"\")\n",
    "dfAppendix = spark_session.read.csv('/home/ubuntu/LDSA/lab2/sicCodes.csv', header=\"true\", inferSchema=\"true\", multiLine=\"true\", escape=\"\\\"\")\n",
    "df.createOrReplaceTempView(\"gap_data\")"
   ]
  },
  {
   "cell_type": "code",
   "execution_count": 3,
   "metadata": {},
   "outputs": [],
   "source": [
    "#df.select(\"SicCodes\").show()"
   ]
  },
  {
   "cell_type": "code",
   "execution_count": 4,
   "metadata": {},
   "outputs": [],
   "source": [
    "#df.printSchema()"
   ]
  },
  {
   "cell_type": "code",
   "execution_count": 5,
   "metadata": {},
   "outputs": [],
   "source": [
    "#dfAppendix.printSchema()"
   ]
  },
  {
   "cell_type": "code",
   "execution_count": 6,
   "metadata": {
    "scrolled": true
   },
   "outputs": [],
   "source": [
    "#dfAppendix.show()"
   ]
  },
  {
   "cell_type": "code",
   "execution_count": 7,
   "metadata": {},
   "outputs": [
    {
     "name": "stdout",
     "output_type": "stream",
     "text": [
      "+--------+\n",
      "| min_max|\n",
      "+--------+\n",
      "|  [1, 3]|\n",
      "|  [5, 9]|\n",
      "|[10, 33]|\n",
      "|[35, 35]|\n",
      "|[36, 39]|\n",
      "|[41, 43]|\n",
      "|[45, 47]|\n",
      "|[49, 53]|\n",
      "|[55, 56]|\n",
      "|[58, 63]|\n",
      "|[64, 66]|\n",
      "|[68, 68]|\n",
      "|[69, 75]|\n",
      "|[77, 82]|\n",
      "|[84, 84]|\n",
      "|[85, 85]|\n",
      "|[86, 88]|\n",
      "|[90, 93]|\n",
      "|[94, 96]|\n",
      "|[97, 98]|\n",
      "+--------+\n",
      "only showing top 20 rows\n",
      "\n"
     ]
    }
   ],
   "source": [
    "dfAppendix.select(array('Min','Max').alias(\"min_max\")).show()"
   ]
  },
  {
   "cell_type": "code",
   "execution_count": null,
   "metadata": {},
   "outputs": [],
   "source": [
    "#dfAppendix.select('Min','Max')"
   ]
  },
  {
   "cell_type": "code",
   "execution_count": null,
   "metadata": {},
   "outputs": [],
   "source": [
    "#merge_cols = udf(lambda arr: to_array(arr), ArrayType(IntegerType()))"
   ]
  },
  {
   "cell_type": "code",
   "execution_count": null,
   "metadata": {},
   "outputs": [],
   "source": [
    "#dfAppendix.withColumn('Min_Max', merge_cols(dfAppendix.select('Min', 'Max'))).show()"
   ]
  },
  {
   "cell_type": "code",
   "execution_count": null,
   "metadata": {},
   "outputs": [],
   "source": [
    "#Get_min_max_udf = udf(lambda y: y.split(',')[2], IntegerType())\n",
    "#df_with_min_max = dfAppendix.withColumn(\"_c0\",Get_min_max_udf(\"dfAppendix\"))\n",
    "#sum_cols = udf(lambda arr: sum(arr), IntegerType())"
   ]
  },
  {
   "cell_type": "code",
   "execution_count": null,
   "metadata": {},
   "outputs": [],
   "source": [
    "#sqlContext.createDataFrame([(101, 1, 16, 8)], ['ID', 'A', 'B', 'C'])\\\n",
    "#.withColumn('Result', sum_cols(array('A', 'B', 'C'))).show()"
   ]
  },
  {
   "cell_type": "code",
   "execution_count": 8,
   "metadata": {},
   "outputs": [],
   "source": [
    "df = df.withColumn('SicCodes', df.SicCodes.substr(1, 2))"
   ]
  },
  {
   "cell_type": "code",
   "execution_count": 9,
   "metadata": {
    "scrolled": false
   },
   "outputs": [
    {
     "data": {
      "text/plain": [
       "DataFrame[EmployerName: string, Address: string, CompanyNumber: string, SicCodes: string, DiffMeanHourlyPercent: double, DiffMedianHourlyPercent: double, DiffMeanBonusPercent: double, DiffMedianBonusPercent: double, MaleBonusPercent: double, FemaleBonusPercent: double, MaleLowerQuartile: double, FemaleLowerQuartile: double, MaleLowerMiddleQuartile: double, FemaleLowerMiddleQuartile: double, MaleUpperMiddleQuartile: double, FemaleUpperMiddleQuartile: double, MaleTopQuartile: double, FemaleTopQuartile: double, CompanyLinkToGPGInfo: string, ResponsiblePerson: string, EmployerSize: string, CurrentName: string, SubmittedAfterTheDeadline\n",
       ": string]"
      ]
     },
     "execution_count": 9,
     "metadata": {},
     "output_type": "execute_result"
    }
   ],
   "source": [
    "df.drop('age').filter(df[\"SicCodes\"] != 1)"
   ]
  },
  {
   "cell_type": "code",
   "execution_count": 10,
   "metadata": {
    "scrolled": true
   },
   "outputs": [
    {
     "name": "stdout",
     "output_type": "stream",
     "text": [
      "+--------------------+--------------------+--------+---------------------+\n",
      "|              sector|        EmployerName|SicCodes|DiffMeanHourlyPercent|\n",
      "+--------------------+--------------------+--------+---------------------+\n",
      "|           EDUCATION|\"Bryanston School...|      85|                 18.0|\n",
      "|WHOLESALE AND RET...|\"RED BAND\" CHEMIC...|      47|                  2.3|\n",
      "|INFORMATION AND C...|         118 LIMITED|      61|                  1.7|\n",
      "|ADMINISTRATIVE AN...|   123 EMPLOYEES LTD|      78|                 41.0|\n",
      "|ARTS ENTERTAINMEN...|        1610 LIMITED|      93|                -22.0|\n",
      "|ACCOMMODATION AND...|1879 EVENTS MANAG...|      56|                 13.4|\n",
      "|ARTS ENTERTAINMEN...|1LIFE MANAGEMENT ...|      93|                 15.1|\n",
      "|HUMAN HEALTH AND ...|  1ST HOME CARE LTD.|      86|                 15.0|\n",
      "|ACCOMMODATION AND...| 1STOP HALAL LIMITED|      56|                 11.9|\n",
      "|       MANUFACTURING|2 AGRICULTURE LIM...|      14|                 13.4|\n",
      "|       MANUFACTURING|2 SISTERS FOOD GR...|      10|                 15.3|\n",
      "|       MANUFACTURING|2 SISTERS POULTRY...|      10|                  4.9|\n",
      "|       MANUFACTURING|2 SISTERS RED MEA...|      10|                 14.5|\n",
      "|ADMINISTRATIVE AN...|2 Touch Bpo Servi...|      82|                 -0.2|\n",
      "|ACCOMMODATION AND...|23.5 DEGREES LIMITED|      56|                 -2.0|\n",
      "|TRANSPORTATION AN...|         24 X 7 Ltd.|      52|                  0.8|\n",
      "|ADMINISTRATIVE AN...|24-7 EMPLOYMENT S...|      78|                  0.0|\n",
      "|ADMINISTRATIVE AN...|3 WAY CLEANING LI...|      81|                  4.2|\n",
      "|TRANSPORTATION AN...|3663 TRANSPORT LI...|      52|                  8.4|\n",
      "|       MANUFACTURING|3M UNITED KINGDOM...|      20|                 14.0|\n",
      "+--------------------+--------------------+--------+---------------------+\n",
      "only showing top 20 rows\n",
      "\n"
     ]
    }
   ],
   "source": [
    "composite = df.join(dfAppendix,(df['SicCodes']<= dfAppendix['Max'])&(df['SicCodes']>= dfAppendix['Min']))\\\n",
    ".select(\"sector\",'EmployerName','SicCodes','DiffMeanHourlyPercent')\n",
    "composite.show()"
   ]
  },
  {
   "cell_type": "code",
   "execution_count": null,
   "metadata": {},
   "outputs": [],
   "source": [
    "composite.createOrReplaceTempView(\"composite\")"
   ]
  },
  {
   "cell_type": "code",
   "execution_count": null,
   "metadata": {},
   "outputs": [],
   "source": [
    "sqlContext.sql(\"SELECT sector, AVG(DiffMeanHourlyPercent) FROM composite GROUP BY sector ORDER BY AVG(DiffMeanHourlyPercent) ASC\").show()"
   ]
  },
  {
   "cell_type": "code",
   "execution_count": null,
   "metadata": {},
   "outputs": [],
   "source": []
  }
 ],
 "metadata": {
  "kernelspec": {
   "display_name": "Python 3",
   "language": "python",
   "name": "python3"
  },
  "language_info": {
   "codemirror_mode": {
    "name": "ipython",
    "version": 3
   },
   "file_extension": ".py",
   "mimetype": "text/x-python",
   "name": "python",
   "nbconvert_exporter": "python",
   "pygments_lexer": "ipython3",
   "version": "3.5.2"
  }
 },
 "nbformat": 4,
 "nbformat_minor": 2
}
