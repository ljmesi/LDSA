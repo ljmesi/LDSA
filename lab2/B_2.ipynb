{
 "cells": [
  {
   "cell_type": "code",
   "execution_count": 1,
   "metadata": {},
   "outputs": [],
   "source": [
    "from pyspark.sql import SparkSession\n",
    "from pyspark.sql import SQLContext\n",
    "from pyspark.sql.functions import *\n",
    "from pyspark.sql.types import StringType\n",
    "from pyspark.sql.types import IntegerType\n",
    "from pyspark.sql.types import ArrayType\n",
    "import sys\n",
    "\n",
    "spark_session = SparkSession\\\n",
    "        .builder\\\n",
    "        .master(\"local\") \\\n",
    "        .appName(\"Question_B2\")\\\n",
    "        .getOrCreate()\n",
    "\n",
    "spark_context = spark_session.sparkContext\n",
    "sqlContext = SQLContext(spark_context)"
   ]
  },
  {
   "cell_type": "code",
   "execution_count": 2,
   "metadata": {},
   "outputs": [],
   "source": [
    "df = spark_session.read.csv('/home/ubuntu/LDSA/lab2/gap_data.csv', header=\"true\", inferSchema=\"true\", multiLine=\"true\", escape=\"\\\"\")\n",
    "dfAppendix = spark_session.read.csv('/home/ubuntu/LDSA/lab2/sicCodes.csv', header=\"true\", inferSchema=\"true\", multiLine=\"true\", escape=\"\\\"\")\n",
    "df.createOrReplaceTempView(\"gap_data\")"
   ]
  },
  {
   "cell_type": "code",
   "execution_count": 12,
   "metadata": {},
   "outputs": [
    {
     "name": "stdout",
     "output_type": "stream",
     "text": [
      "+--------+\n",
      "|SicCodes|\n",
      "+--------+\n",
      "|   85310|\n",
      "|   47730|\n",
      "|   61900|\n",
      "|   78300|\n",
      "|   93110|\n",
      "|   56290|\n",
      "|   10120|\n",
      "|   10120|\n",
      "|   10110|\n",
      "|   82200|\n",
      "|   56103|\n",
      "|   52290|\n",
      "|   78200|\n",
      "|   81210|\n",
      "|   52290|\n",
      "|   82990|\n",
      "|   70229|\n",
      "|   70100|\n",
      "|   56290|\n",
      "|   33150|\n",
      "+--------+\n",
      "only showing top 20 rows\n",
      "\n"
     ]
    }
   ],
   "source": [
    "df.select(\"SicCodes\").show()"
   ]
  },
  {
   "cell_type": "code",
   "execution_count": 11,
   "metadata": {},
   "outputs": [
    {
     "name": "stdout",
     "output_type": "stream",
     "text": [
      "root\n",
      " |-- EmployerName: string (nullable = true)\n",
      " |-- Address: string (nullable = true)\n",
      " |-- CompanyNumber: string (nullable = true)\n",
      " |-- SicCodes: string (nullable = true)\n",
      " |-- DiffMeanHourlyPercent: double (nullable = true)\n",
      " |-- DiffMedianHourlyPercent: double (nullable = true)\n",
      " |-- DiffMeanBonusPercent: double (nullable = true)\n",
      " |-- DiffMedianBonusPercent: double (nullable = true)\n",
      " |-- MaleBonusPercent: double (nullable = true)\n",
      " |-- FemaleBonusPercent: double (nullable = true)\n",
      " |-- MaleLowerQuartile: double (nullable = true)\n",
      " |-- FemaleLowerQuartile: double (nullable = true)\n",
      " |-- MaleLowerMiddleQuartile: double (nullable = true)\n",
      " |-- FemaleLowerMiddleQuartile: double (nullable = true)\n",
      " |-- MaleUpperMiddleQuartile: double (nullable = true)\n",
      " |-- FemaleUpperMiddleQuartile: double (nullable = true)\n",
      " |-- MaleTopQuartile: double (nullable = true)\n",
      " |-- FemaleTopQuartile: double (nullable = true)\n",
      " |-- CompanyLinkToGPGInfo: string (nullable = true)\n",
      " |-- ResponsiblePerson: string (nullable = true)\n",
      " |-- EmployerSize: string (nullable = true)\n",
      " |-- CurrentName: string (nullable = true)\n",
      " |-- SubmittedAfterTheDeadline\r",
      ": string (nullable = true)\n",
      "\n"
     ]
    }
   ],
   "source": [
    "df.printSchema()"
   ]
  },
  {
   "cell_type": "code",
   "execution_count": 3,
   "metadata": {},
   "outputs": [
    {
     "name": "stdout",
     "output_type": "stream",
     "text": [
      "root\n",
      " |-- _c0: string (nullable = true)\n",
      " |-- Sector: string (nullable = true)\n",
      " |-- Min: integer (nullable = true)\n",
      " |-- Max: integer (nullable = true)\n",
      "\n"
     ]
    }
   ],
   "source": [
    "dfAppendix.printSchema()"
   ]
  },
  {
   "cell_type": "code",
   "execution_count": 10,
   "metadata": {
    "scrolled": true
   },
   "outputs": [
    {
     "name": "stdout",
     "output_type": "stream",
     "text": [
      "+---+--------------------+---+---+\n",
      "|_c0|              Sector|Min|Max|\n",
      "+---+--------------------+---+---+\n",
      "|  A|AGRICULTURE FORES...|  1|  3|\n",
      "|  B|MINING AND QUARRYING|  5|  9|\n",
      "|  C|       MANUFACTURING| 10| 33|\n",
      "|  D|ELECTRICITY GAS S...| 35| 35|\n",
      "|  E|WATER SUPPLY SEWE...| 36| 39|\n",
      "|  F|        CONSTRUCTION| 41| 43|\n",
      "|  G|WHOLESALE AND RET...| 45| 47|\n",
      "|  H|TRANSPORTATION AN...| 49| 53|\n",
      "|  I|ACCOMMODATION AND...| 55| 56|\n",
      "|  J|INFORMATION AND C...| 58| 63|\n",
      "|  K|FINANCIAL AND INS...| 64| 66|\n",
      "|  L|REAL ESTATE ACTIV...| 68| 68|\n",
      "|  M|PROFESSIONAL SCIE...| 69| 75|\n",
      "|  N|ADMINISTRATIVE AN...| 77| 82|\n",
      "|  O|PUBLIC ADMINISTRA...| 84| 84|\n",
      "|  P|           EDUCATION| 85| 85|\n",
      "|  Q|HUMAN HEALTH AND ...| 86| 88|\n",
      "|  R|ARTS ENTERTAINMEN...| 90| 93|\n",
      "|  S|OTHER SERVICE ACT...| 94| 96|\n",
      "|  T|ACTIVITIES OF HOU...| 97| 98|\n",
      "+---+--------------------+---+---+\n",
      "only showing top 20 rows\n",
      "\n"
     ]
    }
   ],
   "source": [
    "dfAppendix.show()"
   ]
  },
  {
   "cell_type": "code",
   "execution_count": 15,
   "metadata": {},
   "outputs": [
    {
     "name": "stdout",
     "output_type": "stream",
     "text": [
      "+--------+\n",
      "| min_max|\n",
      "+--------+\n",
      "|  [1, 3]|\n",
      "|  [5, 9]|\n",
      "|[10, 33]|\n",
      "|[35, 35]|\n",
      "|[36, 39]|\n",
      "|[41, 43]|\n",
      "|[45, 47]|\n",
      "|[49, 53]|\n",
      "|[55, 56]|\n",
      "|[58, 63]|\n",
      "|[64, 66]|\n",
      "|[68, 68]|\n",
      "|[69, 75]|\n",
      "|[77, 82]|\n",
      "|[84, 84]|\n",
      "|[85, 85]|\n",
      "|[86, 88]|\n",
      "|[90, 93]|\n",
      "|[94, 96]|\n",
      "|[97, 98]|\n",
      "+--------+\n",
      "only showing top 20 rows\n",
      "\n"
     ]
    }
   ],
   "source": [
    "dfAppendix.select(array('Min','Max').alias(\"min_max\")).show()"
   ]
  },
  {
   "cell_type": "code",
   "execution_count": null,
   "metadata": {},
   "outputs": [],
   "source": [
    "dfAppendix.select('Min','Max')"
   ]
  },
  {
   "cell_type": "code",
   "execution_count": null,
   "metadata": {},
   "outputs": [],
   "source": [
    "def to_array(x):\n",
    "    min = x[0]\n",
    "    max = x[1]\n",
    "    return [x[0],x[1]]"
   ]
  },
  {
   "cell_type": "code",
   "execution_count": null,
   "metadata": {},
   "outputs": [],
   "source": [
    "merge_cols = udf(lambda arr: to_array(arr), ArrayType(IntegerType()))"
   ]
  },
  {
   "cell_type": "code",
   "execution_count": null,
   "metadata": {},
   "outputs": [],
   "source": [
    "dfAppendix.withColumn('Min_Max', merge_cols(dfAppendix.select('Min', 'Max'))).show()"
   ]
  },
  {
   "cell_type": "code",
   "execution_count": null,
   "metadata": {},
   "outputs": [],
   "source": [
    "#Get_min_max_udf = udf(lambda y: y.split(',')[2], IntegerType())\n",
    "#df_with_min_max = dfAppendix.withColumn(\"_c0\",Get_min_max_udf(\"dfAppendix\"))\n",
    "sum_cols = udf(lambda arr: sum(arr), IntegerType())"
   ]
  },
  {
   "cell_type": "code",
   "execution_count": null,
   "metadata": {},
   "outputs": [],
   "source": [
    "sqlContext.createDataFrame([(101, 1, 16, 8)], ['ID', 'A', 'B', 'C'])\\\n",
    ".withColumn('Result', sum_cols(array('A', 'B', 'C'))).show()"
   ]
  },
  {
   "cell_type": "code",
   "execution_count": 13,
   "metadata": {},
   "outputs": [],
   "source": [
    "df = df.withColumn('SicCodes', df.SicCodes.substr(1, 2))"
   ]
  },
  {
   "cell_type": "code",
   "execution_count": null,
   "metadata": {},
   "outputs": [],
   "source": [
    "df.drop('age').collect()"
   ]
  },
  {
   "cell_type": "code",
   "execution_count": 7,
   "metadata": {},
   "outputs": [],
   "source": [
    "df = df.filter(df[\"SicCodes\"] != 1)"
   ]
  },
  {
   "cell_type": "code",
   "execution_count": null,
   "metadata": {},
   "outputs": [],
   "source": []
  },
  {
   "cell_type": "code",
   "execution_count": 19,
   "metadata": {
    "scrolled": true
   },
   "outputs": [
    {
     "name": "stdout",
     "output_type": "stream",
     "text": [
      "+--------------------+--------------------+--------+---------------------+\n",
      "|              sector|        EmployerName|SicCodes|DiffMeanHourlyPercent|\n",
      "+--------------------+--------------------+--------+---------------------+\n",
      "|           EDUCATION|\"Bryanston School...|      85|                 18.0|\n",
      "|WHOLESALE AND RET...|\"RED BAND\" CHEMIC...|      47|                  2.3|\n",
      "|INFORMATION AND C...|         118 LIMITED|      61|                  1.7|\n",
      "|ADMINISTRATIVE AN...|   123 EMPLOYEES LTD|      78|                 41.0|\n",
      "|ARTS ENTERTAINMEN...|        1610 LIMITED|      93|                -22.0|\n",
      "|ACCOMMODATION AND...| 1STOP HALAL LIMITED|      56|                 11.9|\n",
      "|       MANUFACTURING|2 SISTERS FOOD GR...|      10|                 15.3|\n",
      "|       MANUFACTURING|2 SISTERS POULTRY...|      10|                  4.9|\n",
      "|       MANUFACTURING|2 SISTERS RED MEA...|      10|                 14.5|\n",
      "|ADMINISTRATIVE AN...|2 Touch Bpo Servi...|      82|                 -0.2|\n",
      "|ACCOMMODATION AND...|23.5 DEGREES LIMITED|      56|                 -2.0|\n",
      "|TRANSPORTATION AN...|         24 X 7 Ltd.|      52|                  0.8|\n",
      "|ADMINISTRATIVE AN...|24-7 EMPLOYMENT S...|      78|                  0.0|\n",
      "|ADMINISTRATIVE AN...|3 WAY CLEANING LI...|      81|                  4.2|\n",
      "|TRANSPORTATION AN...|3663 TRANSPORT LI...|      52|                  8.4|\n",
      "|ADMINISTRATIVE AN...|5 HERTFORD STREET...|      82|                 -8.0|\n",
      "|PROFESSIONAL SCIE...|       6Cats UK Ltd.|      70|                 14.0|\n",
      "|PROFESSIONAL SCIE...|A  PEARSON HOLDIN...|      70|                 15.4|\n",
      "|ACCOMMODATION AND...|A & L RESTAURANTS...|      56|                  4.9|\n",
      "|       MANUFACTURING|A & P FALMOUTH LI...|      33|                 34.0|\n",
      "+--------------------+--------------------+--------+---------------------+\n",
      "only showing top 20 rows\n",
      "\n"
     ]
    }
   ],
   "source": [
    "composite = df.join(dfAppendix,(df['SicCodes']<= dfAppendix['Max'])&(df['SicCodes']>= dfAppendix['Min']))\\\n",
    ".select(\"sector\",'EmployerName','SicCodes','DiffMeanHourlyPercent')\n",
    "composite.show()"
   ]
  },
  {
   "cell_type": "code",
   "execution_count": 20,
   "metadata": {},
   "outputs": [],
   "source": [
    "composite.createOrReplaceTempView(\"composite\")"
   ]
  },
  {
   "cell_type": "code",
   "execution_count": 28,
   "metadata": {},
   "outputs": [
    {
     "name": "stdout",
     "output_type": "stream",
     "text": [
      "+--------------------+--------------------------+\n",
      "|              sector|avg(DiffMeanHourlyPercent)|\n",
      "+--------------------+--------------------------+\n",
      "|ACTIVITIES OF HOU...|         3.133333333333333|\n",
      "|HUMAN HEALTH AND ...|         6.708316430020282|\n",
      "|ACCOMMODATION AND...|        7.7013015184381715|\n",
      "|WATER SUPPLY SEWE...|         8.993750000000004|\n",
      "|TRANSPORTATION AN...|         9.396632996633002|\n",
      "|PUBLIC ADMINISTRA...|                       9.7|\n",
      "|ACTIVITIES OF EXT...|         9.944444444444445|\n",
      "|ADMINISTRATIVE AN...|        11.528625592417066|\n",
      "|           EDUCATION|         11.65329949238578|\n",
      "|OTHER SERVICE ACT...|         12.46292682926829|\n",
      "|       MANUFACTURING|        12.979506641366225|\n",
      "|WHOLESALE AND RET...|        13.858345428156746|\n",
      "|ELECTRICITY GAS S...|        14.176470588235293|\n",
      "|REAL ESTATE ACTIV...|         15.22525252525252|\n",
      "|PROFESSIONAL SCIE...|         18.81478537360889|\n",
      "|INFORMATION AND C...|        19.427444794952706|\n",
      "|        CONSTRUCTION|         20.94497041420119|\n",
      "|ARTS ENTERTAINMEN...|        22.684810126582278|\n",
      "|FINANCIAL AND INS...|        26.235151515151504|\n",
      "+--------------------+--------------------------+\n",
      "\n"
     ]
    }
   ],
   "source": [
    "sqlContext.sql(\"SELECT sector, AVG(DiffMeanHourlyPercent) FROM composite GROUP BY sector ORDER BY AVG(DiffMeanHourlyPercent) ASC\").show()"
   ]
  }
 ],
 "metadata": {
  "kernelspec": {
   "display_name": "Python 3",
   "language": "python",
   "name": "python3"
  },
  "language_info": {
   "codemirror_mode": {
    "name": "ipython",
    "version": 3
   },
   "file_extension": ".py",
   "mimetype": "text/x-python",
   "name": "python",
   "nbconvert_exporter": "python",
   "pygments_lexer": "ipython3",
   "version": "3.5.2"
  }
 },
 "nbformat": 4,
 "nbformat_minor": 2
}
