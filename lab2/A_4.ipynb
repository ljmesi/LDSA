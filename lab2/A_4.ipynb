{
 "cells": [
  {
   "cell_type": "code",
   "execution_count": 1,
   "metadata": {},
   "outputs": [],
   "source": [
    "from pyspark.sql import SparkSession\n",
    "\n",
    "# (8 cores, 16gb per machine) x 5 = 40 cores\n",
    "\n",
    "# New API\n",
    "spark_session = SparkSession\\\n",
    "        .builder\\\n",
    "        .master(\"local\") \\\n",
    "        .appName(\"Question_A4\")\\\n",
    "        .getOrCreate()\n",
    "\n",
    "# Old API (RDD)\n",
    "spark_context = spark_session.sparkContext"
   ]
  },
  {
   "cell_type": "code",
   "execution_count": 2,
   "metadata": {},
   "outputs": [],
   "source": [
    "textEN = spark_context.textFile(\"/home/ubuntu/LDSA/lab2/europarl-v7.sv-en.en\")\n",
    "textSW = spark_context.textFile(\"/home/ubuntu/LDSA/lab2/europarl-v7.sv-en.sv\")\n",
    "pipedEN = textEN.pipe(\"/home/ubuntu/LDSA/lab2/tools/tokenizer.perl -l en\")\n",
    "pipedSW = textSW.pipe(\"/home/ubuntu/LDSA/lab2/tools/tokenizer.perl -l sv\")"
   ]
  },
  {
   "cell_type": "code",
   "execution_count": 3,
   "metadata": {},
   "outputs": [],
   "source": [
    "indexedEN = pipedEN.zipWithIndex()"
   ]
  },
  {
   "cell_type": "code",
   "execution_count": 4,
   "metadata": {},
   "outputs": [],
   "source": [
    "#indexedEN.take(5)"
   ]
  },
  {
   "cell_type": "code",
   "execution_count": 5,
   "metadata": {},
   "outputs": [],
   "source": [
    "indexedENInverted = indexedEN.map(lambda x: (x[1], x[0]))"
   ]
  },
  {
   "cell_type": "code",
   "execution_count": 6,
   "metadata": {
    "scrolled": true
   },
   "outputs": [],
   "source": [
    "#indexedENInverted.take(5)"
   ]
  },
  {
   "cell_type": "code",
   "execution_count": 7,
   "metadata": {},
   "outputs": [],
   "source": [
    "indexedSWInverted = pipedSW.zipWithIndex()\\\n",
    ".map(lambda x: (x[1], x[0]))"
   ]
  },
  {
   "cell_type": "code",
   "execution_count": 8,
   "metadata": {},
   "outputs": [],
   "source": [
    "#indexedSWInverted.take(5)"
   ]
  },
  {
   "cell_type": "code",
   "execution_count": 9,
   "metadata": {},
   "outputs": [],
   "source": [
    "joinedCorpae = indexedSWInverted.join(indexedENInverted)"
   ]
  },
  {
   "cell_type": "code",
   "execution_count": 10,
   "metadata": {},
   "outputs": [
    {
     "data": {
      "text/plain": [
       "[(0, ('Återupptagande av sessionen', 'Resumption of the session')),\n",
       " (1835010,\n",
       "  ('Jag hoppas att han tar sig litet tid för att gå in på det .',\n",
       "   'I hope that he will take a little time to address this issue before we close .')),\n",
       " (1310724,\n",
       "  ('De måste få möjlighet att göra ett upplyst val med utgångspunkt från tydlig information .',\n",
       "   'They must be able to make an informed choice on the basis of clear information .')),\n",
       " (786438,\n",
       "  ('Det är önskvärt att SIS II installeras och tas i drift så snart som möjligt , och jag anser att kommissionen bör meddela parlamentet om det uppstår eventuella förseningar och skälen till dem .',\n",
       "   'I believe that it would be desirable for SIS II to be up and running as soon as possible and I feel that the Commission should notify Parliament of any delays that occur and the reasons behind those delays .')),\n",
       " (262152,\n",
       "  ('Fördelningen av personbilar har alltid behandlats särskilt och sektoriellt och om jag tar det snabbt , skulle detta system kunna ha varit meningsfullt förut när det fanns flera olika förordningar för de olika distributionssystemen , men nu kanske det inte är fullt så meningsfullt .',\n",
       "   'The distribution of automobiles has always had special treatment , a sectoral treatment , and , if pushed , I would say that this system may have made sense before , when there were different regulations for the different distribution systems , but perhaps it makes less sense now .'))]"
      ]
     },
     "execution_count": 10,
     "metadata": {},
     "output_type": "execute_result"
    }
   ],
   "source": [
    "joinedCorpae.take(5)"
   ]
  },
  {
   "cell_type": "code",
   "execution_count": 80,
   "metadata": {},
   "outputs": [],
   "source": [
    "wordsSplit = joinedCorpae.map(lambda x: (x[0], (x[1][0].split(\" \"), x[1][1].split(\" \"))))"
   ]
  },
  {
   "cell_type": "code",
   "execution_count": 81,
   "metadata": {},
   "outputs": [
    {
     "data": {
      "text/plain": [
       "[(0,\n",
       "  (['Återupptagande', 'av', 'sessionen'],\n",
       "   ['Resumption', 'of', 'the', 'session'])),\n",
       " (1835010,\n",
       "  (['Jag',\n",
       "    'hoppas',\n",
       "    'att',\n",
       "    'han',\n",
       "    'tar',\n",
       "    'sig',\n",
       "    'litet',\n",
       "    'tid',\n",
       "    'för',\n",
       "    'att',\n",
       "    'gå',\n",
       "    'in',\n",
       "    'på',\n",
       "    'det',\n",
       "    '.'],\n",
       "   ['I',\n",
       "    'hope',\n",
       "    'that',\n",
       "    'he',\n",
       "    'will',\n",
       "    'take',\n",
       "    'a',\n",
       "    'little',\n",
       "    'time',\n",
       "    'to',\n",
       "    'address',\n",
       "    'this',\n",
       "    'issue',\n",
       "    'before',\n",
       "    'we',\n",
       "    'close',\n",
       "    '.'])),\n",
       " (1310724,\n",
       "  (['De',\n",
       "    'måste',\n",
       "    'få',\n",
       "    'möjlighet',\n",
       "    'att',\n",
       "    'göra',\n",
       "    'ett',\n",
       "    'upplyst',\n",
       "    'val',\n",
       "    'med',\n",
       "    'utgångspunkt',\n",
       "    'från',\n",
       "    'tydlig',\n",
       "    'information',\n",
       "    '.'],\n",
       "   ['They',\n",
       "    'must',\n",
       "    'be',\n",
       "    'able',\n",
       "    'to',\n",
       "    'make',\n",
       "    'an',\n",
       "    'informed',\n",
       "    'choice',\n",
       "    'on',\n",
       "    'the',\n",
       "    'basis',\n",
       "    'of',\n",
       "    'clear',\n",
       "    'information',\n",
       "    '.'])),\n",
       " (786438,\n",
       "  (['Det',\n",
       "    'är',\n",
       "    'önskvärt',\n",
       "    'att',\n",
       "    'SIS',\n",
       "    'II',\n",
       "    'installeras',\n",
       "    'och',\n",
       "    'tas',\n",
       "    'i',\n",
       "    'drift',\n",
       "    'så',\n",
       "    'snart',\n",
       "    'som',\n",
       "    'möjligt',\n",
       "    ',',\n",
       "    'och',\n",
       "    'jag',\n",
       "    'anser',\n",
       "    'att',\n",
       "    'kommissionen',\n",
       "    'bör',\n",
       "    'meddela',\n",
       "    'parlamentet',\n",
       "    'om',\n",
       "    'det',\n",
       "    'uppstår',\n",
       "    'eventuella',\n",
       "    'förseningar',\n",
       "    'och',\n",
       "    'skälen',\n",
       "    'till',\n",
       "    'dem',\n",
       "    '.'],\n",
       "   ['I',\n",
       "    'believe',\n",
       "    'that',\n",
       "    'it',\n",
       "    'would',\n",
       "    'be',\n",
       "    'desirable',\n",
       "    'for',\n",
       "    'SIS',\n",
       "    'II',\n",
       "    'to',\n",
       "    'be',\n",
       "    'up',\n",
       "    'and',\n",
       "    'running',\n",
       "    'as',\n",
       "    'soon',\n",
       "    'as',\n",
       "    'possible',\n",
       "    'and',\n",
       "    'I',\n",
       "    'feel',\n",
       "    'that',\n",
       "    'the',\n",
       "    'Commission',\n",
       "    'should',\n",
       "    'notify',\n",
       "    'Parliament',\n",
       "    'of',\n",
       "    'any',\n",
       "    'delays',\n",
       "    'that',\n",
       "    'occur',\n",
       "    'and',\n",
       "    'the',\n",
       "    'reasons',\n",
       "    'behind',\n",
       "    'those',\n",
       "    'delays',\n",
       "    '.'])),\n",
       " (262152,\n",
       "  (['Fördelningen',\n",
       "    'av',\n",
       "    'personbilar',\n",
       "    'har',\n",
       "    'alltid',\n",
       "    'behandlats',\n",
       "    'särskilt',\n",
       "    'och',\n",
       "    'sektoriellt',\n",
       "    'och',\n",
       "    'om',\n",
       "    'jag',\n",
       "    'tar',\n",
       "    'det',\n",
       "    'snabbt',\n",
       "    ',',\n",
       "    'skulle',\n",
       "    'detta',\n",
       "    'system',\n",
       "    'kunna',\n",
       "    'ha',\n",
       "    'varit',\n",
       "    'meningsfullt',\n",
       "    'förut',\n",
       "    'när',\n",
       "    'det',\n",
       "    'fanns',\n",
       "    'flera',\n",
       "    'olika',\n",
       "    'förordningar',\n",
       "    'för',\n",
       "    'de',\n",
       "    'olika',\n",
       "    'distributionssystemen',\n",
       "    ',',\n",
       "    'men',\n",
       "    'nu',\n",
       "    'kanske',\n",
       "    'det',\n",
       "    'inte',\n",
       "    'är',\n",
       "    'fullt',\n",
       "    'så',\n",
       "    'meningsfullt',\n",
       "    '.'],\n",
       "   ['The',\n",
       "    'distribution',\n",
       "    'of',\n",
       "    'automobiles',\n",
       "    'has',\n",
       "    'always',\n",
       "    'had',\n",
       "    'special',\n",
       "    'treatment',\n",
       "    ',',\n",
       "    'a',\n",
       "    'sectoral',\n",
       "    'treatment',\n",
       "    ',',\n",
       "    'and',\n",
       "    ',',\n",
       "    'if',\n",
       "    'pushed',\n",
       "    ',',\n",
       "    'I',\n",
       "    'would',\n",
       "    'say',\n",
       "    'that',\n",
       "    'this',\n",
       "    'system',\n",
       "    'may',\n",
       "    'have',\n",
       "    'made',\n",
       "    'sense',\n",
       "    'before',\n",
       "    ',',\n",
       "    'when',\n",
       "    'there',\n",
       "    'were',\n",
       "    'different',\n",
       "    'regulations',\n",
       "    'for',\n",
       "    'the',\n",
       "    'different',\n",
       "    'distribution',\n",
       "    'systems',\n",
       "    ',',\n",
       "    'but',\n",
       "    'perhaps',\n",
       "    'it',\n",
       "    'makes',\n",
       "    'less',\n",
       "    'sense',\n",
       "    'now',\n",
       "    '.']))]"
      ]
     },
     "execution_count": 81,
     "metadata": {},
     "output_type": "execute_result"
    }
   ],
   "source": [
    "wordsSplit.take(5)"
   ]
  },
  {
   "cell_type": "code",
   "execution_count": 60,
   "metadata": {
    "scrolled": true
   },
   "outputs": [
    {
     "data": {
      "text/plain": [
       "1862234"
      ]
     },
     "execution_count": 60,
     "metadata": {},
     "output_type": "execute_result"
    }
   ],
   "source": [
    "wordsSplit.count()"
   ]
  },
  {
   "cell_type": "code",
   "execution_count": 82,
   "metadata": {},
   "outputs": [],
   "source": [
    "wordsSplitFiltered = wordsSplit.filter(lambda element: not \" \" == element[1][1] or not \" \" == element[1][0])\\\n",
    ".filter(lambda element: len(element[1][1]) < 6)\\\n",
    ".filter(lambda element: len(element[1][0]) < 6)\\\n",
    ".filter(lambda element: len(element[1][0])==len(element[1][1]))"
   ]
  },
  {
   "cell_type": "code",
   "execution_count": 83,
   "metadata": {},
   "outputs": [
    {
     "data": {
      "text/plain": [
       "[(1311156, (['Vi', 'måste', 'agera', '.'], ['We', 'must', 'act', '.'])),\n",
       " (1835460,\n",
       "  (['Den', 'andra', 'är', 'invandringen', '.'],\n",
       "   ['The', 'second', 'is', 'immigration', '.'])),\n",
       " (468,\n",
       "  (['Jag', 'förklarar', 'debatten', 'avslutad', '.'],\n",
       "   ['The', 'debate', 'is', 'closed', '.'])),\n",
       " (524826, (['(', '1', ')'], ['(', '1', ')'])),\n",
       " (1049526,\n",
       "  (['Inkomna', 'dokument', ':', 'se', 'protokollet'],\n",
       "   ['Documents', 'received', ':', 'see', 'Minutes']))]"
      ]
     },
     "execution_count": 83,
     "metadata": {},
     "output_type": "execute_result"
    }
   ],
   "source": [
    "wordsSplitFiltered.take(5)"
   ]
  },
  {
   "cell_type": "code",
   "execution_count": 109,
   "metadata": {},
   "outputs": [],
   "source": [
    "rdd1 = wordsSplitFiltered.flatMap(lambda x: x[1][0])\n",
    "rdd2 = wordsSplitFiltered.flatMap(lambda x: x[1][1])\n",
    "wordsJoined = rdd1.zip(rdd2)"
   ]
  },
  {
   "cell_type": "code",
   "execution_count": 110,
   "metadata": {},
   "outputs": [
    {
     "data": {
      "text/plain": [
       "88076"
      ]
     },
     "execution_count": 110,
     "metadata": {},
     "output_type": "execute_result"
    }
   ],
   "source": [
    "wordsJoined.count()"
   ]
  },
  {
   "cell_type": "code",
   "execution_count": 116,
   "metadata": {},
   "outputs": [
    {
     "data": {
      "text/plain": [
       "[('Vi', 'We'), ('måste', 'must'), ('agera', 'act'), ('.', '.'), ('Den', 'The')]"
      ]
     },
     "execution_count": 116,
     "metadata": {},
     "output_type": "execute_result"
    }
   ],
   "source": [
    "wordsJoined.take(5)"
   ]
  },
  {
   "cell_type": "code",
   "execution_count": 132,
   "metadata": {},
   "outputs": [
    {
     "data": {
      "text/plain": [
       "[(('', '.'), 416),\n",
       " (('!', '!'), 714),\n",
       " (('!', \"'\"), 2),\n",
       " (('!', ','), 5),\n",
       " (('!', '.'), 211),\n",
       " (('!', ':'), 1),\n",
       " (('!', '?'), 4),\n",
       " (('!', 'I.'), 1),\n",
       " (('!', 'Söderman'), 1),\n",
       " (('!', 'you'), 1)]"
      ]
     },
     "execution_count": 132,
     "metadata": {},
     "output_type": "execute_result"
    }
   ],
   "source": [
    "wordsJoined.map(lambda word: (word, 1)) \\\n",
    "             .reduceByKey(lambda a, b: a + b)\\\n",
    ".sortByKey(True).take(10)"
   ]
  },
  {
   "cell_type": "code",
   "execution_count": 134,
   "metadata": {},
   "outputs": [
    {
     "data": {
      "text/plain": [
       "[(('.', '.'), 15439),\n",
       " (('(', '('), 3532),\n",
       " ((')', ')'), 3416),\n",
       " (('Applåder', 'Applause'), 3021),\n",
       " (('avslutad', 'closed'), 2881),\n",
       " (('är', 'is'), 2588),\n",
       " (('.', ''), 2330),\n",
       " (('?', '?'), 1711),\n",
       " (('Jag', 'The'), 1319),\n",
       " (('debatten', 'is'), 1319),\n",
       " (('förklarar', 'debate'), 1313),\n",
       " (('härmed', 'is'), 1213),\n",
       " (('är', 'debate'), 1186),\n",
       " (('Debatten', 'The'), 1185),\n",
       " ((':', ':'), 933),\n",
       " (('Det', 'That'), 789),\n",
       " (('!', '!'), 714),\n",
       " (('Jag', 'I'), 581),\n",
       " (('1', '1'), 537),\n",
       " (('Vi', 'We'), 530),\n",
       " (('Varför', 'Why'), 474),\n",
       " (('Detta', 'This'), 473),\n",
       " (('2', '2'), 468),\n",
       " (('Det', 'It'), 448),\n",
       " (('inte', 'not'), 441),\n",
       " (('3', '3'), 420),\n",
       " (('', '.'), 416),\n",
       " (('–', 'The'), 355),\n",
       " (('Debatten', 'debate'), 354),\n",
       " (('är', 'are'), 340)]"
      ]
     },
     "execution_count": 134,
     "metadata": {},
     "output_type": "execute_result"
    }
   ],
   "source": [
    "wordsJoined.map(lambda word: (word, 1)) \\\n",
    "            .reduceByKey(lambda a, b: a + b)\\\n",
    "            .sortBy(lambda x: x[1], False).take(30)"
   ]
  },
  {
   "cell_type": "code",
   "execution_count": null,
   "metadata": {},
   "outputs": [],
   "source": []
  }
 ],
 "metadata": {
  "kernelspec": {
   "display_name": "Python 3",
   "language": "python",
   "name": "python3"
  },
  "language_info": {
   "codemirror_mode": {
    "name": "ipython",
    "version": 3
   },
   "file_extension": ".py",
   "mimetype": "text/x-python",
   "name": "python",
   "nbconvert_exporter": "python",
   "pygments_lexer": "ipython3",
   "version": "3.5.2"
  }
 },
 "nbformat": 4,
 "nbformat_minor": 2
}
