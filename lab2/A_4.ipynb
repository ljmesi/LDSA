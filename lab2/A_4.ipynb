{
 "cells": [
  {
   "cell_type": "code",
   "execution_count": null,
   "metadata": {},
   "outputs": [],
   "source": [
    "from pyspark.sql import SparkSession\n",
    "\n",
    "spark_session = SparkSession\\\n",
    "        .builder\\\n",
    "        .master(\"local\") \\\n",
    "        .appName(\"Question_A4\")\\\n",
    "        .getOrCreate()\n",
    "\n",
    "spark_context = spark_session.sparkContext"
   ]
  },
  {
   "cell_type": "code",
   "execution_count": null,
   "metadata": {},
   "outputs": [],
   "source": [
    "textEN = spark_context.textFile(\"/home/ubuntu/LDSA/lab2/europarl-v7.sv-en.en\")\n",
    "textSW = spark_context.textFile(\"/home/ubuntu/LDSA/lab2/europarl-v7.sv-en.sv\")\n",
    "pipedEN = textEN.pipe(\"/home/ubuntu/LDSA/lab2/tools/tokenizer.perl -l en\")\n",
    "pipedSW = textSW.pipe(\"/home/ubuntu/LDSA/lab2/tools/tokenizer.perl -l sv\")"
   ]
  },
  {
   "cell_type": "code",
   "execution_count": null,
   "metadata": {},
   "outputs": [],
   "source": [
    "indexedEN = pipedEN.zipWithIndex()"
   ]
  },
  {
   "cell_type": "code",
   "execution_count": null,
   "metadata": {},
   "outputs": [],
   "source": [
    "indexedENInverted = indexedEN.map(lambda x: (x[1], x[0]))"
   ]
  },
  {
   "cell_type": "code",
   "execution_count": null,
   "metadata": {},
   "outputs": [],
   "source": [
    "indexedSWInverted = pipedSW.zipWithIndex()\\\n",
    ".map(lambda x: (x[1], x[0]))"
   ]
  },
  {
   "cell_type": "code",
   "execution_count": null,
   "metadata": {},
   "outputs": [],
   "source": [
    "joinedCorpae = indexedSWInverted.join(indexedENInverted)"
   ]
  },
  {
   "cell_type": "code",
   "execution_count": null,
   "metadata": {},
   "outputs": [],
   "source": [
    "joinedCorpae.take(5)"
   ]
  },
  {
   "cell_type": "code",
   "execution_count": null,
   "metadata": {},
   "outputs": [],
   "source": [
    "wordsSplit = joinedCorpae.map(lambda x: (x[0], (x[1][0].split(\" \"), x[1][1].split(\" \"))))"
   ]
  },
  {
   "cell_type": "code",
   "execution_count": null,
   "metadata": {},
   "outputs": [],
   "source": [
    "wordsSplit.take(2)"
   ]
  },
  {
   "cell_type": "code",
   "execution_count": null,
   "metadata": {
    "scrolled": true
   },
   "outputs": [],
   "source": [
    "wordsSplit.count()"
   ]
  },
  {
   "cell_type": "code",
   "execution_count": null,
   "metadata": {},
   "outputs": [],
   "source": [
    "wordsSplitFiltered = wordsSplit.filter(lambda element: not \" \" == element[1][1] or not \" \" == element[1][0])\\\n",
    ".filter(lambda element: len(element[1][1]) < 6)\\\n",
    ".filter(lambda element: len(element[1][0]) < 6)\\\n",
    ".filter(lambda element: len(element[1][0])==len(element[1][1]))"
   ]
  },
  {
   "cell_type": "code",
   "execution_count": null,
   "metadata": {},
   "outputs": [],
   "source": [
    "wordsSplitFiltered.take(5)"
   ]
  },
  {
   "cell_type": "code",
   "execution_count": null,
   "metadata": {},
   "outputs": [],
   "source": [
    "rdd1 = wordsSplitFiltered.flatMap(lambda x: x[1][0])\n",
    "rdd2 = wordsSplitFiltered.flatMap(lambda x: x[1][1])\n",
    "wordsJoined = rdd1.zip(rdd2)"
   ]
  },
  {
   "cell_type": "code",
   "execution_count": null,
   "metadata": {},
   "outputs": [],
   "source": [
    "wordsJoined.count()"
   ]
  },
  {
   "cell_type": "code",
   "execution_count": null,
   "metadata": {},
   "outputs": [],
   "source": [
    "wordsJoined.take(2)"
   ]
  },
  {
   "cell_type": "code",
   "execution_count": null,
   "metadata": {},
   "outputs": [],
   "source": [
    "wordsJoined.map(lambda word: (word, 1)) \\\n",
    "             .reduceByKey(lambda a, b: a + b)\\\n",
    ".sortByKey(True).take(10)"
   ]
  },
  {
   "cell_type": "code",
   "execution_count": null,
   "metadata": {},
   "outputs": [],
   "source": [
    "wordsJoined.map(lambda word: (word, 1)) \\\n",
    "            .reduceByKey(lambda a, b: a + b)\\\n",
    "            .sortBy(lambda x: x[1], False).take(30)"
   ]
  }
 ],
 "metadata": {
  "kernelspec": {
   "display_name": "Python 3",
   "language": "python",
   "name": "python3"
  },
  "language_info": {
   "codemirror_mode": {
    "name": "ipython",
    "version": 3
   },
   "file_extension": ".py",
   "mimetype": "text/x-python",
   "name": "python",
   "nbconvert_exporter": "python",
   "pygments_lexer": "ipython3",
   "version": "3.5.2"
  }
 },
 "nbformat": 4,
 "nbformat_minor": 2
}
