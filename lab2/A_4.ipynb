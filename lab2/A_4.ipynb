{
 "cells": [
  {
   "cell_type": "code",
   "execution_count": 1,
   "metadata": {},
   "outputs": [],
   "source": [
    "from pyspark.sql import SparkSession\n",
    "\n",
    "# (8 cores, 16gb per machine) x 5 = 40 cores\n",
    "\n",
    "# New API\n",
    "spark_session = SparkSession\\\n",
    "        .builder\\\n",
    "        .master(\"local\") \\\n",
    "        .appName(\"Question_A4\")\\\n",
    "        .getOrCreate()\n",
    "\n",
    "# Old API (RDD)\n",
    "spark_context = spark_session.sparkContext"
   ]
  },
  {
   "cell_type": "code",
   "execution_count": 2,
   "metadata": {},
   "outputs": [],
   "source": [
    "textEN = spark_context.textFile(\"/home/ubuntu/LDSA/lab2/europarl-v7.sv-en.en\")\n",
    "textSW = spark_context.textFile(\"/home/ubuntu/LDSA/lab2/europarl-v7.sv-en.sv\")\n",
    "pipedEN = textEN.pipe(\"/home/ubuntu/LDSA/lab2/tools/tokenizer.perl -l en\")\n",
    "pipedSW = textSW.pipe(\"/home/ubuntu/LDSA/lab2/tools/tokenizer.perl -l sv\")"
   ]
  },
  {
   "cell_type": "code",
   "execution_count": 3,
   "metadata": {},
   "outputs": [],
   "source": [
    "indexedEN = pipedEN.zipWithIndex()"
   ]
  },
  {
   "cell_type": "code",
   "execution_count": 4,
   "metadata": {},
   "outputs": [],
   "source": [
    "#indexedEN.take(5)"
   ]
  },
  {
   "cell_type": "code",
   "execution_count": 5,
   "metadata": {},
   "outputs": [],
   "source": [
    "indexedENInverted = indexedEN.map(lambda x: (x[1], x[0]))"
   ]
  },
  {
   "cell_type": "code",
   "execution_count": 6,
   "metadata": {
    "scrolled": true
   },
   "outputs": [],
   "source": [
    "#indexedENInverted.take(5)"
   ]
  },
  {
   "cell_type": "code",
   "execution_count": 7,
   "metadata": {},
   "outputs": [],
   "source": [
    "indexedSWInverted = pipedSW.zipWithIndex()\\\n",
    ".map(lambda x: (x[1], x[0]))"
   ]
  },
  {
   "cell_type": "code",
   "execution_count": 8,
   "metadata": {},
   "outputs": [],
   "source": [
    "#indexedSWInverted.take(5)"
   ]
  },
  {
   "cell_type": "code",
   "execution_count": 9,
   "metadata": {},
   "outputs": [],
   "source": [
    "joinedCorpae = indexedSWInverted.join(indexedENInverted)"
   ]
  },
  {
   "cell_type": "code",
   "execution_count": 10,
   "metadata": {},
   "outputs": [
    {
     "data": {
      "text/plain": [
       "[(0, ('Återupptagande av sessionen', 'Resumption of the session')),\n",
       " (1835010,\n",
       "  ('Jag hoppas att han tar sig litet tid för att gå in på det .',\n",
       "   'I hope that he will take a little time to address this issue before we close .')),\n",
       " (1310724,\n",
       "  ('De måste få möjlighet att göra ett upplyst val med utgångspunkt från tydlig information .',\n",
       "   'They must be able to make an informed choice on the basis of clear information .')),\n",
       " (786438,\n",
       "  ('Det är önskvärt att SIS II installeras och tas i drift så snart som möjligt , och jag anser att kommissionen bör meddela parlamentet om det uppstår eventuella förseningar och skälen till dem .',\n",
       "   'I believe that it would be desirable for SIS II to be up and running as soon as possible and I feel that the Commission should notify Parliament of any delays that occur and the reasons behind those delays .')),\n",
       " (262152,\n",
       "  ('Fördelningen av personbilar har alltid behandlats särskilt och sektoriellt och om jag tar det snabbt , skulle detta system kunna ha varit meningsfullt förut när det fanns flera olika förordningar för de olika distributionssystemen , men nu kanske det inte är fullt så meningsfullt .',\n",
       "   'The distribution of automobiles has always had special treatment , a sectoral treatment , and , if pushed , I would say that this system may have made sense before , when there were different regulations for the different distribution systems , but perhaps it makes less sense now .'))]"
      ]
     },
     "execution_count": 10,
     "metadata": {},
     "output_type": "execute_result"
    }
   ],
   "source": [
    "joinedCorpae.take(5)"
   ]
  },
  {
   "cell_type": "code",
   "execution_count": null,
   "metadata": {},
   "outputs": [],
   "source": [
    "result = joinedCorpae.filter(lambda keyValue: len(keyValue[1]) < 5)"
   ]
  },
  {
   "cell_type": "code",
   "execution_count": null,
   "metadata": {},
   "outputs": [],
   "source": [
    "wordsSplit = joinedCorpae.mapValues()"
   ]
  },
  {
   "cell_type": "code",
   "execution_count": null,
   "metadata": {},
   "outputs": [],
   "source": []
  }
 ],
 "metadata": {
  "kernelspec": {
   "display_name": "Python 3",
   "language": "python",
   "name": "python3"
  },
  "language_info": {
   "codemirror_mode": {
    "name": "ipython",
    "version": 3
   },
   "file_extension": ".py",
   "mimetype": "text/x-python",
   "name": "python",
   "nbconvert_exporter": "python",
   "pygments_lexer": "ipython3",
   "version": "3.5.2"
  }
 },
 "nbformat": 4,
 "nbformat_minor": 2
}
