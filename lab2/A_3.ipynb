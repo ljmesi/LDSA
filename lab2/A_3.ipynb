{
 "cells": [
  {
   "cell_type": "code",
   "execution_count": 1,
   "metadata": {},
   "outputs": [],
   "source": [
    "from pyspark.sql import SparkSession\n",
    "\n",
    "# New API\n",
    "spark_session = SparkSession\\\n",
    "        .builder\\\n",
    "        .master(\"local\") \\\n",
    "        .appName(\"Question_A3\")\\\n",
    "        .getOrCreate()\n",
    "\n",
    "# Old API (RDD)\n",
    "spark_context = spark_session.sparkContext"
   ]
  },
  {
   "cell_type": "code",
   "execution_count": 3,
   "metadata": {},
   "outputs": [],
   "source": [
    "textEN = spark_context.textFile(\"/home/ubuntu/LDSA/lab2/europarl-v7.sv-en.en\")\n",
    "textSW = spark_context.textFile(\"/home/ubuntu/LDSA/lab2/europarl-v7.sv-en.sv\")\n",
    "pipedEN = textEN.pipe(\"/home/ubuntu/LDSA/lab2/tools/tokenizer.perl -l en\")\n",
    "pipedSW = textSW.pipe(\"/home/ubuntu/LDSA/lab2/tools/tokenizer.perl -l sv\")\n",
    "lowerCasedEN = pipedEN.flatMap(lambda line: line.lower().split(\"/n\"))\\\n",
    ".flatMap(lambda ls: ''.join(ls).split(\" \"))\n",
    "lowerCasedSW = pipedSW.flatMap(lambda line: line.lower().split(\"/n\"))\\\n",
    ".flatMap(lambda ls: ''.join(ls).split(\" \"))\n",
    "mappedEN = lowerCasedEN.map(lambda x: (x,1))\n",
    "groupedEN = mappedEN.groupByKey()"
   ]
  },
  {
   "cell_type": "code",
   "execution_count": 4,
   "metadata": {},
   "outputs": [],
   "source": [
    "freq_wordsEN = groupedEN.mapValues(sum).map(lambda x: (x[1],x[0])).sortByKey(False)"
   ]
  },
  {
   "cell_type": "code",
   "execution_count": 5,
   "metadata": {},
   "outputs": [
    {
     "data": {
      "text/plain": [
       "[(3505228, 'the'),\n",
       " (2440596, ','),\n",
       " (1798163, '.'),\n",
       " (1662136, 'of'),\n",
       " (1543797, 'to'),\n",
       " (1319061, 'and'),\n",
       " (1089015, 'in'),\n",
       " (839170, 'that'),\n",
       " (774986, 'a'),\n",
       " (774949, 'is')]"
      ]
     },
     "execution_count": 5,
     "metadata": {},
     "output_type": "execute_result"
    }
   ],
   "source": [
    "freq_wordsEN.take(10)"
   ]
  },
  {
   "cell_type": "code",
   "execution_count": 6,
   "metadata": {},
   "outputs": [],
   "source": [
    "freq_wordsSW = lowerCasedSW.map(lambda x: (x,1))\\\n",
    ".groupByKey()\\\n",
    ".mapValues(sum).map(lambda x: (x[1],x[0])).sortByKey(False)"
   ]
  },
  {
   "cell_type": "code",
   "execution_count": 7,
   "metadata": {},
   "outputs": [
    {
     "data": {
      "text/plain": [
       "[(1575749, '.'),\n",
       " (1461410, 'att'),\n",
       " (1218244, ','),\n",
       " (1168071, 'och'),\n",
       " (887542, 'i'),\n",
       " (792023, 'det'),\n",
       " (783445, 'för'),\n",
       " (778318, 'som'),\n",
       " (626587, 'av'),\n",
       " (596805, 'är')]"
      ]
     },
     "execution_count": 7,
     "metadata": {},
     "output_type": "execute_result"
    }
   ],
   "source": [
    "freq_wordsSW.take(10)"
   ]
  },
  {
   "cell_type": "code",
   "execution_count": 8,
   "metadata": {},
   "outputs": [],
   "source": []
  },
  {
   "cell_type": "code",
   "execution_count": 9,
   "metadata": {},
   "outputs": [
    {
     "data": {
      "text/plain": [
       "[(3505228, 'the'),\n",
       " (2440596, ','),\n",
       " (1798163, '.'),\n",
       " (1662136, 'of'),\n",
       " (1543797, 'to'),\n",
       " (1319061, 'and'),\n",
       " (1089015, 'in'),\n",
       " (839170, 'that'),\n",
       " (774986, 'a'),\n",
       " (774949, 'is')]"
      ]
     },
     "execution_count": 9,
     "metadata": {},
     "output_type": "execute_result"
    }
   ],
   "source": []
  },
  {
   "cell_type": "code",
   "execution_count": 10,
   "metadata": {},
   "outputs": [],
   "source": []
  },
  {
   "cell_type": "code",
   "execution_count": 11,
   "metadata": {},
   "outputs": [
    {
     "data": {
      "text/plain": [
       "[(1849014, '.'),\n",
       " (1709915, 'att'),\n",
       " (1477733, ','),\n",
       " (1350825, 'och'),\n",
       " (1054362, 'i'),\n",
       " (952972, 'det'),\n",
       " (917581, 'som'),\n",
       " (914944, 'för'),\n",
       " (740761, 'av'),\n",
       " (701844, 'är')]"
      ]
     },
     "execution_count": 11,
     "metadata": {},
     "output_type": "execute_result"
    }
   ],
   "source": []
  }
 ],
 "metadata": {
  "kernelspec": {
   "display_name": "Python 3",
   "language": "python",
   "name": "python3"
  },
  "language_info": {
   "codemirror_mode": {
    "name": "ipython",
    "version": 3
   },
   "file_extension": ".py",
   "mimetype": "text/x-python",
   "name": "python",
   "nbconvert_exporter": "python",
   "pygments_lexer": "ipython3",
   "version": "3.5.2"
  }
 },
 "nbformat": 4,
 "nbformat_minor": 2
}
